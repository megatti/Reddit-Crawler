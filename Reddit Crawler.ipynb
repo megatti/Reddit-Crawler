{
 "cells": [
  {
   "cell_type": "code",
   "execution_count": 3,
   "id": "6c18bbfd-42f6-4acb-9f5b-9618eb1a7ad3",
   "metadata": {},
   "outputs": [],
   "source": [
    "import asyncio\n",
    "import asyncpraw\n",
    "\n",
    "import argparse\n",
    "import logging\n",
    "import os\n",
    "\n",
    "import dotenv"
   ]
  },
  {
   "cell_type": "code",
   "execution_count": 6,
   "id": "15cf64b7-250c-4a7e-a169-a9503cbb0e6b",
   "metadata": {},
   "outputs": [],
   "source": [
    "dotenv.load_dotenv()\n",
    "\n",
    "# Load environment variables\n",
    "try:\n",
    "    CLIENT_ID = os.environ[\"CLIENT_ID\"]\n",
    "    CLIENT_SECRET = os.environ[\"CLIENT_SECRET\"]\n",
    "    USER_AGENT = os.environ[\"USER_AGENT\"]\n",
    "except KeyError as keyerror:\n",
    "    raise Exception(\"Not all required environment variables have been defined.\") from keyerror"
   ]
  },
  {
   "cell_type": "code",
   "execution_count": 8,
   "id": "9a35bac7-5740-4e1a-8c12-90fe5561113f",
   "metadata": {},
   "outputs": [
    {
     "name": "stdout",
     "output_type": "stream",
     "text": [
      "True\n"
     ]
    }
   ],
   "source": [
    "reddit = asyncpraw.Reddit(client_id=CLIENT_ID, client_secret=CLIENT_SECRET, user_agent=USER_AGENT, username=USERNAME, password=PASSWORD)\n",
    "print(reddit.read_only)"
   ]
  }
 ],
 "metadata": {
  "kernelspec": {
   "display_name": "Python 3 (ipykernel)",
   "language": "python",
   "name": "python3"
  },
  "language_info": {
   "codemirror_mode": {
    "name": "ipython",
    "version": 3
   },
   "file_extension": ".py",
   "mimetype": "text/x-python",
   "name": "python",
   "nbconvert_exporter": "python",
   "pygments_lexer": "ipython3",
   "version": "3.9.5"
  }
 },
 "nbformat": 4,
 "nbformat_minor": 5
}
